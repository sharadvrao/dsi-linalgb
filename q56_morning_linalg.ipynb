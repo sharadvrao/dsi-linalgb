{
 "cells": [
  {
   "cell_type": "code",
   "execution_count": 1,
   "metadata": {},
   "outputs": [],
   "source": [
    "import numpy as np\n",
    "from sklearn import datasets\n",
    "iris = datasets.load_iris()\n",
    "import matplotlib.pyplot as plt"
   ]
  },
  {
   "cell_type": "code",
   "execution_count": 3,
   "metadata": {},
   "outputs": [],
   "source": [
    "def euclidean_dist(vector1, vector2):\n",
    "    shape_vec1 = vector1.shape\n",
    "    shape_vec2 = vector2.shape\n",
    "    if shape_vec1 != shape_vec2:\n",
    "        return print(\"Vector dims not equal!\")\n",
    "    else:\n",
    "        cvector1 = np.copy(vector1.reshape((np.amax(shape_vec1), 1)))\n",
    "        cvector2 = np.copy(vector2.reshape((np.amax(shape_vec2), 1)))\n",
    "    return np.linalg.norm(cvector1 - cvector2)"
   ]
  },
  {
   "cell_type": "code",
   "execution_count": 4,
   "metadata": {},
   "outputs": [],
   "source": [
    "def cosine_sim(vector1, vector2):\n",
    "    shape_vec1 = vector1.shape\n",
    "    shape_vec2 = vector2.shape\n",
    "    cvector1 = np.copy(vector1.reshape((1, np.amax(shape_vec1))))\n",
    "    cvector2 = np.copy(vector2.reshape((np.amax(shape_vec2), 1)))\n",
    "    cv1unit = cvector1 / np.linalg.norm(cvector1)\n",
    "    cv2unit = cvector2 / np.linalg.norm(cvector2)\n",
    "    return (np.dot(cv1unit, cv2unit))"
   ]
  },
  {
   "cell_type": "code",
   "execution_count": 5,
   "metadata": {},
   "outputs": [],
   "source": [
    "def compute_dist(ndarray, function_to_use):\n",
    "    distance_array = np.zeros((ndarray.shape[0], 1))\n",
    "    mean_vector = np.mean(ndarray, axis = 0)\n",
    "    col_mean_vector = mean_vector.reshape((mean_vector.shape[0], 1))\n",
    "    for index in range(ndarray.shape[0]):\n",
    "        distance_array[index] = function_to_use(ndarray[index].reshape(\n",
    "        (ndarray[0].shape[0], 1)), col_mean_vector)\n",
    "    return distance_array"
   ]
  },
  {
   "cell_type": "code",
   "execution_count": 6,
   "metadata": {},
   "outputs": [],
   "source": [
    "cos_dist_matrix = compute_dist(iris['data'], cosine_sim)\n",
    "euc_dist_matrix = compute_dist(iris['data'], euclidean_dist)"
   ]
  },
  {
   "cell_type": "code",
   "execution_count": 7,
   "metadata": {},
   "outputs": [
    {
     "data": {
      "text/plain": [
       "Text(0,0.5,'Probability Density')"
      ]
     },
     "execution_count": 7,
     "metadata": {},
     "output_type": "execute_result"
    },
    {
     "data": {
      "image/png": "[encoded data removed]",
      "text/plain": [
       "<Figure size 432x288 with 1 Axes>"
      ]
     },
     "metadata": {
      "needs_background": "light"
     },
     "output_type": "display_data"
    },
    {
     "data": {
      "image/png": "[encoded data removed]",
      "text/plain": [
       "<Figure size 432x288 with 1 Axes>"
      ]
     },
     "metadata": {
      "needs_background": "light"
     },
     "output_type": "display_data"
    }
   ],
   "source": [
    "%matplotlib inline\n",
    "\n",
    "fig1, ax1 = plt.subplots()\n",
    "ax1.set_xlabel(\"Cosine Similarity\")\n",
    "ax1.set_ylabel(\"Probability Density\")\n",
    "ax1.hist(cos_dist_matrix, bins = 20, density = True)\n",
    "\n",
    "fig2, ax2 = plt.subplots()\n",
    "ax2.hist(euc_dist_matrix, bins = 20, density = True)\n",
    "ax2.set_xlabel(\"Euclidean Distance\")\n",
    "ax2.set_ylabel(\"Probability Density\")"
   ]
  },
  {
   "cell_type": "code",
   "execution_count": null,
   "metadata": {},
   "outputs": [],
   "source": []
  }
 ],
 "metadata": {
  "kernelspec": {
   "display_name": "Python 3",
   "language": "python",
   "name": "python3"
  },
  "language_info": {
   "codemirror_mode": {
    "name": "ipython",
    "version": 3
   },
   "file_extension": ".py",
   "mimetype": "text/x-python",
   "name": "python",
   "nbconvert_exporter": "python",
   "pygments_lexer": "ipython3",
   "version": "3.7.0"
  }
 },
 "nbformat": 4,
 "nbformat_minor": 2
}
